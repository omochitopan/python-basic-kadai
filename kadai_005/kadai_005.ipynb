{
  "nbformat": 4,
  "nbformat_minor": 0,
  "metadata": {
    "colab": {
      "provenance": []
    },
    "kernelspec": {
      "name": "python3",
      "display_name": "Python 3"
    },
    "language_info": {
      "name": "python"
    }
  },
  "cells": [
    {
      "cell_type": "code",
      "execution_count": 1,
      "metadata": {
        "colab": {
          "base_uri": "https://localhost:8080/"
        },
        "id": "dGkqgIXoNthu",
        "outputId": "f9a8bde9-9e9f-4459-b30f-7e8e3dd3c060"
      },
      "outputs": [
        {
          "output_type": "stream",
          "name": "stdout",
          "text": [
            "75.0cm²\n"
          ]
        }
      ],
      "source": [
        "upper = 10\n",
        "lower = 20\n",
        "height = 5\n",
        "\n",
        "area = (upper + lower) * height / 2\n",
        "\n",
        "print(str(area) + \"cm²\")"
      ]
    }
  ]
}