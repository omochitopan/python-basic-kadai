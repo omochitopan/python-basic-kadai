{
  "cells": [
    {
      "cell_type": "code",
      "execution_count": 5,
      "metadata": {
        "colab": {
          "base_uri": "https://localhost:8080/"
        },
        "id": "Xp1NvHfZSPNT",
        "outputId": "f45b1a26-012f-485b-ea19-0d38b91fa6fa"
      },
      "outputs": [
        {
          "name": "stdout",
          "output_type": "stream",
          "text": [
            "太郎は大人です。\n",
            "一郎は大人です。\n",
            "二郎は大人です。\n",
            "三郎は大人です。\n",
            "四郎は大人です。\n",
            "五郎は大人ではありません。\n"
          ]
        }
      ],
      "source": [
        "class Human:\n",
        "    def __init__(self, name, age):\n",
        "        self.name = name\n",
        "        self.age = age\n",
        "\n",
        "    def check_adult(self):\n",
        "        if self.age >= 20:\n",
        "            print(f\"{self.name}は大人です。\")\n",
        "        else:\n",
        "            print(f\"{self.name}は大人ではありません。\")\n",
        "\n",
        "humans_dict = {\"太郎\": 40, \"一郎\": 35, \"二郎\": 30, \"三郎\": 25, \"四郎\": 20, \"五郎\": 15}\n",
        "humans_list = []\n",
        "\n",
        "for name, age in humans_dict.items():\n",
        "    human_class = Human(name, age)\n",
        "    humans_list.append(human_class)\n",
        "\n",
        "for human in humans_list:\n",
        "    human.check_adult()"
      ]
    },
    {
      "cell_type": "code",
      "execution_count": null,
      "metadata": {
        "id": "lCEgIE3AWAMB"
      },
      "outputs": [],
      "source": []
    }
  ],
  "metadata": {
    "colab": {
      "provenance": []
    },
    "kernelspec": {
      "display_name": "Python 3",
      "name": "python3"
    },
    "language_info": {
      "name": "python"
    }
  },
  "nbformat": 4,
  "nbformat_minor": 0
}
