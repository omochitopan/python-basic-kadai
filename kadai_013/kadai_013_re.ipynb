{
  "nbformat": 4,
  "nbformat_minor": 0,
  "metadata": {
    "colab": {
      "provenance": []
    },
    "kernelspec": {
      "name": "python3",
      "display_name": "Python 3"
    },
    "language_info": {
      "name": "python"
    }
  },
  "cells": [
    {
      "cell_type": "code",
      "execution_count": null,
      "metadata": {
        "colab": {
          "base_uri": "https://localhost:8080/"
        },
        "id": "qNjhoDlubEUA",
        "outputId": "6a9ced57-df99-4ed1-dea1-ab2b90d8e75f"
      },
      "outputs": [
        {
          "output_type": "stream",
          "name": "stdout",
          "text": [
            "550.0\n"
          ]
        }
      ],
      "source": [
        "def calculate_total_price(price, rate):\n",
        "    total_price = price + (price * rate)\n",
        "    return total_price\n",
        "\n",
        "total_price = calculate_total_price(500, 0.10)\n",
        "print(total_price)"
      ]
    }
  ]
}