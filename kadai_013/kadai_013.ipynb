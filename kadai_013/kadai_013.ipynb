{
  "nbformat": 4,
  "nbformat_minor": 0,
  "metadata": {
    "colab": {
      "provenance": []
    },
    "kernelspec": {
      "name": "python3",
      "display_name": "Python 3"
    },
    "language_info": {
      "name": "python"
    }
  },
  "cells": [
    {
      "cell_type": "code",
      "execution_count": 1,
      "metadata": {
        "colab": {
          "base_uri": "https://localhost:8080/"
        },
        "id": "qNjhoDlubEUA",
        "outputId": "263bc5d8-aee4-4f98-8500-bc39559f62dc"
      },
      "outputs": [
        {
          "output_type": "stream",
          "name": "stdout",
          "text": [
            "50.0\n"
          ]
        }
      ],
      "source": [
        "def calculate_tax(price, rate):\n",
        "    tax = price * rate\n",
        "    return tax\n",
        "\n",
        "tax = calculate_tax(500, 0.10)\n",
        "print(tax)"
      ]
    }
  ]
}